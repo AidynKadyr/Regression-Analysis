{
 "cells": [
  {
   "cell_type": "code",
   "execution_count": 1,
   "metadata": {},
   "outputs": [
    {
     "name": "stderr",
     "output_type": "stream",
     "text": [
      "C:\\Aidyn\\Python\\lib\\site-packages\\statsmodels\\tools\\_testing.py:19: FutureWarning: pandas.util.testing is deprecated. Use the functions in the public API at pandas.testing instead.\n",
      "  import pandas.util.testing as tm\n"
     ]
    }
   ],
   "source": [
    "import pandas as pd\n",
    "import scipy.stats as stats\n",
    "import matplotlib.pyplot as plt\n",
    "from sklearn.metrics import mean_squared_error\n",
    "from sklearn.model_selection import train_test_split\n",
    "from sklearn.linear_model import LinearRegression\n",
    "import statsmodels.api as sm\n",
    "import seaborn as sns"
   ]
  },
  {
   "cell_type": "code",
   "execution_count": 2,
   "metadata": {},
   "outputs": [
    {
     "data": {
      "text/html": [
       "<div>\n",
       "<style scoped>\n",
       "    .dataframe tbody tr th:only-of-type {\n",
       "        vertical-align: middle;\n",
       "    }\n",
       "\n",
       "    .dataframe tbody tr th {\n",
       "        vertical-align: top;\n",
       "    }\n",
       "\n",
       "    .dataframe thead th {\n",
       "        text-align: right;\n",
       "    }\n",
       "</style>\n",
       "<table border=\"1\" class=\"dataframe\">\n",
       "  <thead>\n",
       "    <tr style=\"text-align: right;\">\n",
       "      <th></th>\n",
       "      <th>X1</th>\n",
       "      <th>X2</th>\n",
       "      <th>X3</th>\n",
       "      <th>X4</th>\n",
       "      <th>X5</th>\n",
       "      <th>X6</th>\n",
       "      <th>X7</th>\n",
       "      <th>X8</th>\n",
       "      <th>X9</th>\n",
       "      <th>X10</th>\n",
       "      <th>X11</th>\n",
       "      <th>X12</th>\n",
       "      <th>X13</th>\n",
       "      <th>Y</th>\n",
       "    </tr>\n",
       "  </thead>\n",
       "  <tbody>\n",
       "    <tr>\n",
       "      <th>0</th>\n",
       "      <td>-8.230</td>\n",
       "      <td>-0.088</td>\n",
       "      <td>11.100</td>\n",
       "      <td>-12.30</td>\n",
       "      <td>-3.76</td>\n",
       "      <td>13.80</td>\n",
       "      <td>21.40</td>\n",
       "      <td>-8.030</td>\n",
       "      <td>14.400</td>\n",
       "      <td>-3.89</td>\n",
       "      <td>-12.20</td>\n",
       "      <td>21.30</td>\n",
       "      <td>12.00</td>\n",
       "      <td>112.0</td>\n",
       "    </tr>\n",
       "    <tr>\n",
       "      <th>1</th>\n",
       "      <td>-8.280</td>\n",
       "      <td>-5.790</td>\n",
       "      <td>-7.510</td>\n",
       "      <td>-5.63</td>\n",
       "      <td>18.10</td>\n",
       "      <td>-19.50</td>\n",
       "      <td>-7.69</td>\n",
       "      <td>-8.990</td>\n",
       "      <td>-19.600</td>\n",
       "      <td>16.20</td>\n",
       "      <td>-7.37</td>\n",
       "      <td>-9.13</td>\n",
       "      <td>-5.02</td>\n",
       "      <td>-193.0</td>\n",
       "    </tr>\n",
       "    <tr>\n",
       "      <th>2</th>\n",
       "      <td>7.290</td>\n",
       "      <td>-7.910</td>\n",
       "      <td>-0.425</td>\n",
       "      <td>12.50</td>\n",
       "      <td>-12.60</td>\n",
       "      <td>-4.34</td>\n",
       "      <td>8.63</td>\n",
       "      <td>6.250</td>\n",
       "      <td>-4.810</td>\n",
       "      <td>-13.60</td>\n",
       "      <td>12.70</td>\n",
       "      <td>7.75</td>\n",
       "      <td>-0.36</td>\n",
       "      <td>81.8</td>\n",
       "    </tr>\n",
       "    <tr>\n",
       "      <th>3</th>\n",
       "      <td>-0.165</td>\n",
       "      <td>-7.480</td>\n",
       "      <td>-13.700</td>\n",
       "      <td>18.90</td>\n",
       "      <td>-10.00</td>\n",
       "      <td>8.19</td>\n",
       "      <td>12.00</td>\n",
       "      <td>-0.222</td>\n",
       "      <td>9.110</td>\n",
       "      <td>-10.00</td>\n",
       "      <td>18.90</td>\n",
       "      <td>10.80</td>\n",
       "      <td>-12.90</td>\n",
       "      <td>96.4</td>\n",
       "    </tr>\n",
       "    <tr>\n",
       "      <th>4</th>\n",
       "      <td>-4.880</td>\n",
       "      <td>9.050</td>\n",
       "      <td>0.638</td>\n",
       "      <td>-16.90</td>\n",
       "      <td>9.14</td>\n",
       "      <td>2.35</td>\n",
       "      <td>2.71</td>\n",
       "      <td>-6.850</td>\n",
       "      <td>0.896</td>\n",
       "      <td>8.58</td>\n",
       "      <td>-17.00</td>\n",
       "      <td>1.71</td>\n",
       "      <td>-1.54</td>\n",
       "      <td>-28.4</td>\n",
       "    </tr>\n",
       "  </tbody>\n",
       "</table>\n",
       "</div>"
      ],
      "text/plain": [
       "      X1     X2      X3     X4     X5     X6     X7     X8      X9    X10  \\\n",
       "0 -8.230 -0.088  11.100 -12.30  -3.76  13.80  21.40 -8.030  14.400  -3.89   \n",
       "1 -8.280 -5.790  -7.510  -5.63  18.10 -19.50  -7.69 -8.990 -19.600  16.20   \n",
       "2  7.290 -7.910  -0.425  12.50 -12.60  -4.34   8.63  6.250  -4.810 -13.60   \n",
       "3 -0.165 -7.480 -13.700  18.90 -10.00   8.19  12.00 -0.222   9.110 -10.00   \n",
       "4 -4.880  9.050   0.638 -16.90   9.14   2.35   2.71 -6.850   0.896   8.58   \n",
       "\n",
       "     X11    X12    X13      Y  \n",
       "0 -12.20  21.30  12.00  112.0  \n",
       "1  -7.37  -9.13  -5.02 -193.0  \n",
       "2  12.70   7.75  -0.36   81.8  \n",
       "3  18.90  10.80 -12.90   96.4  \n",
       "4 -17.00   1.71  -1.54  -28.4  "
      ]
     },
     "execution_count": 2,
     "metadata": {},
     "output_type": "execute_result"
    }
   ],
   "source": [
    "ls = []\n",
    "for i in range(1,14):\n",
    "    ls.append('X'+str(i))\n",
    "ls.append('Y')\n",
    "df = pd.read_csv('data11.txt', sep = ' ', header = None, names = ls)\n",
    "df.head()"
   ]
  },
  {
   "cell_type": "code",
   "execution_count": 3,
   "metadata": {},
   "outputs": [
    {
     "data": {
      "text/html": [
       "<div>\n",
       "<style scoped>\n",
       "    .dataframe tbody tr th:only-of-type {\n",
       "        vertical-align: middle;\n",
       "    }\n",
       "\n",
       "    .dataframe tbody tr th {\n",
       "        vertical-align: top;\n",
       "    }\n",
       "\n",
       "    .dataframe thead th {\n",
       "        text-align: right;\n",
       "    }\n",
       "</style>\n",
       "<table border=\"1\" class=\"dataframe\">\n",
       "  <thead>\n",
       "    <tr style=\"text-align: right;\">\n",
       "      <th></th>\n",
       "      <th>X1</th>\n",
       "      <th>X2</th>\n",
       "      <th>X3</th>\n",
       "      <th>X4</th>\n",
       "      <th>X5</th>\n",
       "      <th>X6</th>\n",
       "      <th>X7</th>\n",
       "      <th>X8</th>\n",
       "      <th>X9</th>\n",
       "      <th>X10</th>\n",
       "      <th>X11</th>\n",
       "      <th>X12</th>\n",
       "      <th>X13</th>\n",
       "      <th>Y</th>\n",
       "    </tr>\n",
       "  </thead>\n",
       "  <tbody>\n",
       "    <tr>\n",
       "      <th>X1</th>\n",
       "      <td>1.000000</td>\n",
       "      <td>-0.019835</td>\n",
       "      <td>-0.019199</td>\n",
       "      <td>0.043085</td>\n",
       "      <td>-0.033457</td>\n",
       "      <td>0.047664</td>\n",
       "      <td>-0.093073</td>\n",
       "      <td>0.994873</td>\n",
       "      <td>0.048704</td>\n",
       "      <td>-0.037673</td>\n",
       "      <td>0.033145</td>\n",
       "      <td>-0.097245</td>\n",
       "      <td>-0.030977</td>\n",
       "      <td>0.152570</td>\n",
       "    </tr>\n",
       "    <tr>\n",
       "      <th>X2</th>\n",
       "      <td>-0.019835</td>\n",
       "      <td>1.000000</td>\n",
       "      <td>-0.006454</td>\n",
       "      <td>-0.105253</td>\n",
       "      <td>0.018347</td>\n",
       "      <td>-0.049896</td>\n",
       "      <td>0.002727</td>\n",
       "      <td>-0.028983</td>\n",
       "      <td>-0.037446</td>\n",
       "      <td>0.026137</td>\n",
       "      <td>-0.100641</td>\n",
       "      <td>0.011795</td>\n",
       "      <td>-0.009183</td>\n",
       "      <td>-0.020317</td>\n",
       "    </tr>\n",
       "    <tr>\n",
       "      <th>X3</th>\n",
       "      <td>-0.019199</td>\n",
       "      <td>-0.006454</td>\n",
       "      <td>1.000000</td>\n",
       "      <td>-0.051914</td>\n",
       "      <td>-0.097878</td>\n",
       "      <td>-0.016584</td>\n",
       "      <td>0.023399</td>\n",
       "      <td>-0.013421</td>\n",
       "      <td>-0.014787</td>\n",
       "      <td>-0.102355</td>\n",
       "      <td>-0.052291</td>\n",
       "      <td>0.028687</td>\n",
       "      <td>0.995051</td>\n",
       "      <td>0.040448</td>\n",
       "    </tr>\n",
       "    <tr>\n",
       "      <th>X4</th>\n",
       "      <td>0.043085</td>\n",
       "      <td>-0.105253</td>\n",
       "      <td>-0.051914</td>\n",
       "      <td>1.000000</td>\n",
       "      <td>0.031733</td>\n",
       "      <td>-0.032121</td>\n",
       "      <td>-0.003926</td>\n",
       "      <td>0.054351</td>\n",
       "      <td>-0.043642</td>\n",
       "      <td>0.026675</td>\n",
       "      <td>0.995120</td>\n",
       "      <td>-0.003289</td>\n",
       "      <td>-0.048075</td>\n",
       "      <td>-0.241762</td>\n",
       "    </tr>\n",
       "    <tr>\n",
       "      <th>X5</th>\n",
       "      <td>-0.033457</td>\n",
       "      <td>0.018347</td>\n",
       "      <td>-0.097878</td>\n",
       "      <td>0.031733</td>\n",
       "      <td>1.000000</td>\n",
       "      <td>0.060997</td>\n",
       "      <td>-0.058243</td>\n",
       "      <td>-0.049754</td>\n",
       "      <td>0.069397</td>\n",
       "      <td>0.995049</td>\n",
       "      <td>0.025490</td>\n",
       "      <td>-0.064473</td>\n",
       "      <td>-0.097254</td>\n",
       "      <td>-0.856150</td>\n",
       "    </tr>\n",
       "  </tbody>\n",
       "</table>\n",
       "</div>"
      ],
      "text/plain": [
       "          X1        X2        X3        X4        X5        X6        X7  \\\n",
       "X1  1.000000 -0.019835 -0.019199  0.043085 -0.033457  0.047664 -0.093073   \n",
       "X2 -0.019835  1.000000 -0.006454 -0.105253  0.018347 -0.049896  0.002727   \n",
       "X3 -0.019199 -0.006454  1.000000 -0.051914 -0.097878 -0.016584  0.023399   \n",
       "X4  0.043085 -0.105253 -0.051914  1.000000  0.031733 -0.032121 -0.003926   \n",
       "X5 -0.033457  0.018347 -0.097878  0.031733  1.000000  0.060997 -0.058243   \n",
       "\n",
       "          X8        X9       X10       X11       X12       X13         Y  \n",
       "X1  0.994873  0.048704 -0.037673  0.033145 -0.097245 -0.030977  0.152570  \n",
       "X2 -0.028983 -0.037446  0.026137 -0.100641  0.011795 -0.009183 -0.020317  \n",
       "X3 -0.013421 -0.014787 -0.102355 -0.052291  0.028687  0.995051  0.040448  \n",
       "X4  0.054351 -0.043642  0.026675  0.995120 -0.003289 -0.048075 -0.241762  \n",
       "X5 -0.049754  0.069397  0.995049  0.025490 -0.064473 -0.097254 -0.856150  "
      ]
     },
     "execution_count": 3,
     "metadata": {},
     "output_type": "execute_result"
    }
   ],
   "source": [
    "corr = df.corr()\n",
    "corr.head()"
   ]
  },
  {
   "cell_type": "code",
   "execution_count": 4,
   "metadata": {},
   "outputs": [
    {
     "data": {
      "text/plain": [
       "<matplotlib.axes._subplots.AxesSubplot at 0x10f5d99b808>"
      ]
     },
     "execution_count": 4,
     "metadata": {},
     "output_type": "execute_result"
    },
    {
     "data": {
      "image/png": "[encoded data removed]",
      "text/plain": [
       "<Figure size 432x288 with 2 Axes>"
      ]
     },
     "metadata": {
      "needs_background": "light"
     },
     "output_type": "display_data"
    }
   ],
   "source": [
    "sns.heatmap(corr.abs())"
   ]
  },
  {
   "cell_type": "code",
   "execution_count": 5,
   "metadata": {},
   "outputs": [
    {
     "data": {
      "text/html": [
       "<div>\n",
       "<style scoped>\n",
       "    .dataframe tbody tr th:only-of-type {\n",
       "        vertical-align: middle;\n",
       "    }\n",
       "\n",
       "    .dataframe tbody tr th {\n",
       "        vertical-align: top;\n",
       "    }\n",
       "\n",
       "    .dataframe thead th {\n",
       "        text-align: right;\n",
       "    }\n",
       "</style>\n",
       "<table border=\"1\" class=\"dataframe\">\n",
       "  <thead>\n",
       "    <tr style=\"text-align: right;\">\n",
       "      <th></th>\n",
       "      <th>X1</th>\n",
       "      <th>X2</th>\n",
       "      <th>X3</th>\n",
       "      <th>X4</th>\n",
       "      <th>X5</th>\n",
       "      <th>X6</th>\n",
       "      <th>X7</th>\n",
       "      <th>X8</th>\n",
       "      <th>X9</th>\n",
       "      <th>X10</th>\n",
       "      <th>X11</th>\n",
       "      <th>X12</th>\n",
       "      <th>X13</th>\n",
       "      <th>Y</th>\n",
       "    </tr>\n",
       "  </thead>\n",
       "  <tbody>\n",
       "    <tr>\n",
       "      <th>X1</th>\n",
       "      <td>105.708485</td>\n",
       "      <td>-1.962618</td>\n",
       "      <td>-1.998767</td>\n",
       "      <td>4.379893</td>\n",
       "      <td>-3.655202</td>\n",
       "      <td>5.093461</td>\n",
       "      <td>-9.931338</td>\n",
       "      <td>104.942266</td>\n",
       "      <td>5.183826</td>\n",
       "      <td>-4.068804</td>\n",
       "      <td>3.402231</td>\n",
       "      <td>-10.291790</td>\n",
       "      <td>-3.238619</td>\n",
       "      <td>149.266407</td>\n",
       "    </tr>\n",
       "    <tr>\n",
       "      <th>X2</th>\n",
       "      <td>-1.962618</td>\n",
       "      <td>92.621388</td>\n",
       "      <td>-0.628987</td>\n",
       "      <td>-10.015485</td>\n",
       "      <td>1.876293</td>\n",
       "      <td>-4.990993</td>\n",
       "      <td>0.272383</td>\n",
       "      <td>-2.861711</td>\n",
       "      <td>-3.730680</td>\n",
       "      <td>2.642345</td>\n",
       "      <td>-9.669982</td>\n",
       "      <td>1.168522</td>\n",
       "      <td>-0.898653</td>\n",
       "      <td>-18.605690</td>\n",
       "    </tr>\n",
       "    <tr>\n",
       "      <th>X3</th>\n",
       "      <td>-1.998767</td>\n",
       "      <td>-0.628987</td>\n",
       "      <td>102.531601</td>\n",
       "      <td>-5.197556</td>\n",
       "      <td>-10.531398</td>\n",
       "      <td>-1.745373</td>\n",
       "      <td>2.459021</td>\n",
       "      <td>-1.394295</td>\n",
       "      <td>-1.550056</td>\n",
       "      <td>-10.887175</td>\n",
       "      <td>-5.286338</td>\n",
       "      <td>2.990027</td>\n",
       "      <td>102.454906</td>\n",
       "      <td>38.973414</td>\n",
       "    </tr>\n",
       "    <tr>\n",
       "      <th>X4</th>\n",
       "      <td>4.379893</td>\n",
       "      <td>-10.015485</td>\n",
       "      <td>-5.197556</td>\n",
       "      <td>97.760511</td>\n",
       "      <td>3.334015</td>\n",
       "      <td>-3.300923</td>\n",
       "      <td>-0.402879</td>\n",
       "      <td>5.513413</td>\n",
       "      <td>-4.467046</td>\n",
       "      <td>2.770494</td>\n",
       "      <td>98.232048</td>\n",
       "      <td>-0.334714</td>\n",
       "      <td>-4.833496</td>\n",
       "      <td>-227.461040</td>\n",
       "    </tr>\n",
       "    <tr>\n",
       "      <th>X5</th>\n",
       "      <td>-3.655202</td>\n",
       "      <td>1.876293</td>\n",
       "      <td>-10.531398</td>\n",
       "      <td>3.334015</td>\n",
       "      <td>112.912109</td>\n",
       "      <td>6.736678</td>\n",
       "      <td>-6.422994</td>\n",
       "      <td>-5.424039</td>\n",
       "      <td>7.633847</td>\n",
       "      <td>111.068545</td>\n",
       "      <td>2.704232</td>\n",
       "      <td>-7.052014</td>\n",
       "      <td>-10.508401</td>\n",
       "      <td>-865.681009</td>\n",
       "    </tr>\n",
       "  </tbody>\n",
       "</table>\n",
       "</div>"
      ],
      "text/plain": [
       "            X1         X2          X3         X4          X5        X6  \\\n",
       "X1  105.708485  -1.962618   -1.998767   4.379893   -3.655202  5.093461   \n",
       "X2   -1.962618  92.621388   -0.628987 -10.015485    1.876293 -4.990993   \n",
       "X3   -1.998767  -0.628987  102.531601  -5.197556  -10.531398 -1.745373   \n",
       "X4    4.379893 -10.015485   -5.197556  97.760511    3.334015 -3.300923   \n",
       "X5   -3.655202   1.876293  -10.531398   3.334015  112.912109  6.736678   \n",
       "\n",
       "          X7          X8        X9         X10        X11        X12  \\\n",
       "X1 -9.931338  104.942266  5.183826   -4.068804   3.402231 -10.291790   \n",
       "X2  0.272383   -2.861711 -3.730680    2.642345  -9.669982   1.168522   \n",
       "X3  2.459021   -1.394295 -1.550056  -10.887175  -5.286338   2.990027   \n",
       "X4 -0.402879    5.513413 -4.467046    2.770494  98.232048  -0.334714   \n",
       "X5 -6.422994   -5.424039  7.633847  111.068545   2.704232  -7.052014   \n",
       "\n",
       "           X13           Y  \n",
       "X1   -3.238619  149.266407  \n",
       "X2   -0.898653  -18.605690  \n",
       "X3  102.454906   38.973414  \n",
       "X4   -4.833496 -227.461040  \n",
       "X5  -10.508401 -865.681009  "
      ]
     },
     "execution_count": 5,
     "metadata": {},
     "output_type": "execute_result"
    }
   ],
   "source": [
    "covar = df.cov()\n",
    "covar.head()"
   ]
  },
  {
   "cell_type": "code",
   "execution_count": 6,
   "metadata": {},
   "outputs": [
    {
     "data": {
      "text/html": [
       "<div>\n",
       "<style scoped>\n",
       "    .dataframe tbody tr th:only-of-type {\n",
       "        vertical-align: middle;\n",
       "    }\n",
       "\n",
       "    .dataframe tbody tr th {\n",
       "        vertical-align: top;\n",
       "    }\n",
       "\n",
       "    .dataframe thead th {\n",
       "        text-align: right;\n",
       "    }\n",
       "</style>\n",
       "<table border=\"1\" class=\"dataframe\">\n",
       "  <thead>\n",
       "    <tr style=\"text-align: right;\">\n",
       "      <th></th>\n",
       "      <th>X1</th>\n",
       "      <th>X2</th>\n",
       "      <th>X3</th>\n",
       "      <th>X4</th>\n",
       "      <th>X5</th>\n",
       "      <th>X6</th>\n",
       "      <th>X7</th>\n",
       "      <th>X8</th>\n",
       "      <th>X9</th>\n",
       "      <th>X10</th>\n",
       "      <th>X11</th>\n",
       "      <th>X12</th>\n",
       "      <th>X13</th>\n",
       "      <th>Y</th>\n",
       "    </tr>\n",
       "  </thead>\n",
       "  <tbody>\n",
       "    <tr>\n",
       "      <th>Y</th>\n",
       "      <td>0.15257</td>\n",
       "      <td>0.020317</td>\n",
       "      <td>0.040448</td>\n",
       "      <td>0.241762</td>\n",
       "      <td>0.85615</td>\n",
       "      <td>0.398</td>\n",
       "      <td>0.042208</td>\n",
       "      <td>0.164957</td>\n",
       "      <td>0.394825</td>\n",
       "      <td>0.862624</td>\n",
       "      <td>0.231197</td>\n",
       "      <td>0.044876</td>\n",
       "      <td>0.034844</td>\n",
       "      <td>1.0</td>\n",
       "    </tr>\n",
       "  </tbody>\n",
       "</table>\n",
       "</div>"
      ],
      "text/plain": [
       "        X1        X2        X3        X4       X5     X6        X7        X8  \\\n",
       "Y  0.15257  0.020317  0.040448  0.241762  0.85615  0.398  0.042208  0.164957   \n",
       "\n",
       "         X9       X10       X11       X12       X13    Y  \n",
       "Y  0.394825  0.862624  0.231197  0.044876  0.034844  1.0  "
      ]
     },
     "execution_count": 6,
     "metadata": {},
     "output_type": "execute_result"
    }
   ],
   "source": [
    "corr_y = pd.DataFrame(corr.iloc[:,-1].abs()) # correlation of output with features.\n",
    "corr_y.T"
   ]
  },
  {
   "cell_type": "code",
   "execution_count": 7,
   "metadata": {},
   "outputs": [],
   "source": [
    "y = df.iloc[:,-1]\n",
    "X = df.iloc[:,:-1]"
   ]
  },
  {
   "cell_type": "code",
   "execution_count": 8,
   "metadata": {},
   "outputs": [
    {
     "data": {
      "text/plain": [
       "0.9999934649314993"
      ]
     },
     "execution_count": 8,
     "metadata": {},
     "output_type": "execute_result"
    }
   ],
   "source": [
    "linreg = LinearRegression().fit(X, y)\n",
    "linreg.score(X,y)"
   ]
  },
  {
   "cell_type": "code",
   "execution_count": 7,
   "metadata": {},
   "outputs": [],
   "source": [
    "X_train, X_test, y_train, y_test = train_test_split(X, y, test_size=0.2, random_state=66)"
   ]
  },
  {
   "cell_type": "code",
   "execution_count": 8,
   "metadata": {},
   "outputs": [],
   "source": [
    "linreg = LinearRegression().fit(X_train, y_train)"
   ]
  },
  {
   "cell_type": "code",
   "execution_count": 9,
   "metadata": {},
   "outputs": [
    {
     "data": {
      "text/plain": [
       "0.9999924747182588"
      ]
     },
     "execution_count": 9,
     "metadata": {},
     "output_type": "execute_result"
    }
   ],
   "source": [
    "linreg.score(X_train,y_train)"
   ]
  },
  {
   "cell_type": "code",
   "execution_count": 10,
   "metadata": {},
   "outputs": [
    {
     "data": {
      "text/plain": [
       "array([-7.99162665e+00, -1.19408042e-02, -7.87422696e-03, -1.15404285e-02,\n",
       "        4.01354394e-03, -1.98738892e+00, -1.60171550e-02,  9.59421100e-01,\n",
       "        1.10038878e-01, -4.81874073e-01,  4.00976519e+00, -7.81927909e-03,\n",
       "        4.17894723e-02])"
      ]
     },
     "execution_count": 10,
     "metadata": {},
     "output_type": "execute_result"
    }
   ],
   "source": [
    "linreg.coef_"
   ]
  },
  {
   "cell_type": "code",
   "execution_count": 11,
   "metadata": {},
   "outputs": [
    {
     "data": {
      "text/plain": [
       "10.033341894795011"
      ]
     },
     "execution_count": 11,
     "metadata": {},
     "output_type": "execute_result"
    }
   ],
   "source": [
    "linreg.intercept_"
   ]
  },
  {
   "cell_type": "code",
   "execution_count": 9,
   "metadata": {},
   "outputs": [],
   "source": [
    "y_pred = linreg.predict(X)"
   ]
  },
  {
   "cell_type": "code",
   "execution_count": 10,
   "metadata": {},
   "outputs": [
    {
     "data": {
      "text/plain": [
       "0.05897600225106216"
      ]
     },
     "execution_count": 10,
     "metadata": {},
     "output_type": "execute_result"
    }
   ],
   "source": [
    "mean_squared_error(y, y_pred)"
   ]
  },
  {
   "cell_type": "code",
   "execution_count": null,
   "metadata": {},
   "outputs": [],
   "source": [
    "linreg.score(X_test,y_test)"
   ]
  },
  {
   "cell_type": "code",
   "execution_count": 14,
   "metadata": {},
   "outputs": [
    {
     "data": {
      "text/html": [
       "<table class=\"simpletable\">\n",
       "<caption>OLS Regression Results</caption>\n",
       "<tr>\n",
       "  <th>Dep. Variable:</th>            <td>Y</td>        <th>  R-squared:         </th> <td>   1.000</td> \n",
       "</tr>\n",
       "<tr>\n",
       "  <th>Model:</th>                   <td>OLS</td>       <th>  Adj. R-squared:    </th> <td>   1.000</td> \n",
       "</tr>\n",
       "<tr>\n",
       "  <th>Method:</th>             <td>Least Squares</td>  <th>  F-statistic:       </th> <td>2.310e+06</td>\n",
       "</tr>\n",
       "<tr>\n",
       "  <th>Date:</th>             <td>Thu, 25 Nov 2021</td> <th>  Prob (F-statistic):</th>  <td>  0.00</td>  \n",
       "</tr>\n",
       "<tr>\n",
       "  <th>Time:</th>                 <td>18:21:17</td>     <th>  Log-Likelihood:    </th> <td> -11.193</td> \n",
       "</tr>\n",
       "<tr>\n",
       "  <th>No. Observations:</th>      <td>   240</td>      <th>  AIC:               </th> <td>   50.39</td> \n",
       "</tr>\n",
       "<tr>\n",
       "  <th>Df Residuals:</th>          <td>   226</td>      <th>  BIC:               </th> <td>   99.12</td> \n",
       "</tr>\n",
       "<tr>\n",
       "  <th>Df Model:</th>              <td>    13</td>      <th>                     </th>     <td> </td>    \n",
       "</tr>\n",
       "<tr>\n",
       "  <th>Covariance Type:</th>      <td>nonrobust</td>    <th>                     </th>     <td> </td>    \n",
       "</tr>\n",
       "</table>\n",
       "<table class=\"simpletable\">\n",
       "<tr>\n",
       "    <td></td>       <th>coef</th>     <th>std err</th>      <th>t</th>      <th>P>|t|</th>  <th>[0.025</th>    <th>0.975]</th>  \n",
       "</tr>\n",
       "<tr>\n",
       "  <th>const</th> <td>   10.0333</td> <td>    0.018</td> <td>  570.085</td> <td> 0.000</td> <td>    9.999</td> <td>   10.068</td>\n",
       "</tr>\n",
       "<tr>\n",
       "  <th>X1</th>    <td>   -7.9916</td> <td>    0.017</td> <td> -468.959</td> <td> 0.000</td> <td>   -8.025</td> <td>   -7.958</td>\n",
       "</tr>\n",
       "<tr>\n",
       "  <th>X2</th>    <td>   -0.0119</td> <td>    0.018</td> <td>   -0.658</td> <td> 0.511</td> <td>   -0.048</td> <td>    0.024</td>\n",
       "</tr>\n",
       "<tr>\n",
       "  <th>X3</th>    <td>   -0.0079</td> <td>    0.017</td> <td>   -0.460</td> <td> 0.646</td> <td>   -0.042</td> <td>    0.026</td>\n",
       "</tr>\n",
       "<tr>\n",
       "  <th>X4</th>    <td>   -0.0115</td> <td>    0.017</td> <td>   -0.696</td> <td> 0.487</td> <td>   -0.044</td> <td>    0.021</td>\n",
       "</tr>\n",
       "<tr>\n",
       "  <th>X5</th>    <td>    0.0040</td> <td>    0.002</td> <td>    2.440</td> <td> 0.015</td> <td>    0.001</td> <td>    0.007</td>\n",
       "</tr>\n",
       "<tr>\n",
       "  <th>X6</th>    <td>   -1.9874</td> <td>    0.018</td> <td> -108.676</td> <td> 0.000</td> <td>   -2.023</td> <td>   -1.951</td>\n",
       "</tr>\n",
       "<tr>\n",
       "  <th>X7</th>    <td>   -0.0160</td> <td>    0.016</td> <td>   -0.996</td> <td> 0.320</td> <td>   -0.048</td> <td>    0.016</td>\n",
       "</tr>\n",
       "<tr>\n",
       "  <th>X8</th>    <td>    0.9594</td> <td>    0.018</td> <td>   52.375</td> <td> 0.000</td> <td>    0.923</td> <td>    0.996</td>\n",
       "</tr>\n",
       "<tr>\n",
       "  <th>X9</th>    <td>    0.1100</td> <td>    0.018</td> <td>    6.241</td> <td> 0.000</td> <td>    0.075</td> <td>    0.145</td>\n",
       "</tr>\n",
       "<tr>\n",
       "  <th>X10</th>   <td>   -0.4819</td> <td>    0.016</td> <td>  -29.690</td> <td> 0.000</td> <td>   -0.514</td> <td>   -0.450</td>\n",
       "</tr>\n",
       "<tr>\n",
       "  <th>X11</th>   <td>    4.0098</td> <td>    0.017</td> <td>  241.186</td> <td> 0.000</td> <td>    3.977</td> <td>    4.043</td>\n",
       "</tr>\n",
       "<tr>\n",
       "  <th>X12</th>   <td>   -0.0078</td> <td>    0.017</td> <td>   -0.450</td> <td> 0.653</td> <td>   -0.042</td> <td>    0.026</td>\n",
       "</tr>\n",
       "<tr>\n",
       "  <th>X13</th>   <td>    0.0418</td> <td>    0.018</td> <td>    2.301</td> <td> 0.022</td> <td>    0.006</td> <td>    0.078</td>\n",
       "</tr>\n",
       "</table>\n",
       "<table class=\"simpletable\">\n",
       "<tr>\n",
       "  <th>Omnibus:</th>       <td>10.792</td> <th>  Durbin-Watson:     </th> <td>   1.843</td>\n",
       "</tr>\n",
       "<tr>\n",
       "  <th>Prob(Omnibus):</th> <td> 0.005</td> <th>  Jarque-Bera (JB):  </th> <td>  18.025</td>\n",
       "</tr>\n",
       "<tr>\n",
       "  <th>Skew:</th>          <td> 0.237</td> <th>  Prob(JB):          </th> <td>0.000122</td>\n",
       "</tr>\n",
       "<tr>\n",
       "  <th>Kurtosis:</th>      <td> 4.256</td> <th>  Cond. No.          </th> <td>    26.7</td>\n",
       "</tr>\n",
       "</table><br/><br/>Warnings:<br/>[1] Standard Errors assume that the covariance matrix of the errors is correctly specified."
      ],
      "text/plain": [
       "<class 'statsmodels.iolib.summary.Summary'>\n",
       "\"\"\"\n",
       "                            OLS Regression Results                            \n",
       "==============================================================================\n",
       "Dep. Variable:                      Y   R-squared:                       1.000\n",
       "Model:                            OLS   Adj. R-squared:                  1.000\n",
       "Method:                 Least Squares   F-statistic:                 2.310e+06\n",
       "Date:                Thu, 25 Nov 2021   Prob (F-statistic):               0.00\n",
       "Time:                        18:21:17   Log-Likelihood:                -11.193\n",
       "No. Observations:                 240   AIC:                             50.39\n",
       "Df Residuals:                     226   BIC:                             99.12\n",
       "Df Model:                          13                                         \n",
       "Covariance Type:            nonrobust                                         \n",
       "==============================================================================\n",
       "                 coef    std err          t      P>|t|      [0.025      0.975]\n",
       "------------------------------------------------------------------------------\n",
       "const         10.0333      0.018    570.085      0.000       9.999      10.068\n",
       "X1            -7.9916      0.017   -468.959      0.000      -8.025      -7.958\n",
       "X2            -0.0119      0.018     -0.658      0.511      -0.048       0.024\n",
       "X3            -0.0079      0.017     -0.460      0.646      -0.042       0.026\n",
       "X4            -0.0115      0.017     -0.696      0.487      -0.044       0.021\n",
       "X5             0.0040      0.002      2.440      0.015       0.001       0.007\n",
       "X6            -1.9874      0.018   -108.676      0.000      -2.023      -1.951\n",
       "X7            -0.0160      0.016     -0.996      0.320      -0.048       0.016\n",
       "X8             0.9594      0.018     52.375      0.000       0.923       0.996\n",
       "X9             0.1100      0.018      6.241      0.000       0.075       0.145\n",
       "X10           -0.4819      0.016    -29.690      0.000      -0.514      -0.450\n",
       "X11            4.0098      0.017    241.186      0.000       3.977       4.043\n",
       "X12           -0.0078      0.017     -0.450      0.653      -0.042       0.026\n",
       "X13            0.0418      0.018      2.301      0.022       0.006       0.078\n",
       "==============================================================================\n",
       "Omnibus:                       10.792   Durbin-Watson:                   1.843\n",
       "Prob(Omnibus):                  0.005   Jarque-Bera (JB):               18.025\n",
       "Skew:                           0.237   Prob(JB):                     0.000122\n",
       "Kurtosis:                       4.256   Cond. No.                         26.7\n",
       "==============================================================================\n",
       "\n",
       "Warnings:\n",
       "[1] Standard Errors assume that the covariance matrix of the errors is correctly specified.\n",
       "\"\"\""
      ]
     },
     "execution_count": 14,
     "metadata": {},
     "output_type": "execute_result"
    }
   ],
   "source": [
    "X_train = sm.add_constant(X_train)\n",
    "model = sm.OLS(y_train, X_train)\n",
    "result = model.fit()\n",
    "result.summary()"
   ]
  },
  {
   "cell_type": "code",
   "execution_count": null,
   "metadata": {},
   "outputs": [],
   "source": [
    "pd.DataFrame(result.params).T"
   ]
  },
  {
   "cell_type": "code",
   "execution_count": null,
   "metadata": {},
   "outputs": [],
   "source": [
    "pval = pd.DataFrame([result.tvalues,result.pvalues],index = ['t_value', 'p_value'])\n",
    "pval"
   ]
  },
  {
   "cell_type": "code",
   "execution_count": null,
   "metadata": {},
   "outputs": [],
   "source": [
    "pval.round(3)"
   ]
  },
  {
   "cell_type": "code",
   "execution_count": null,
   "metadata": {},
   "outputs": [],
   "source": [
    "y_train_pred = result.predict(X_train)"
   ]
  },
  {
   "cell_type": "code",
   "execution_count": null,
   "metadata": {},
   "outputs": [],
   "source": [
    "mean_squared_error(y_train_pred, y_train)"
   ]
  },
  {
   "cell_type": "code",
   "execution_count": null,
   "metadata": {},
   "outputs": [],
   "source": [
    "# 2 3 7 8 9 11 can be kept"
   ]
  },
  {
   "cell_type": "code",
   "execution_count": null,
   "metadata": {},
   "outputs": [],
   "source": [
    "y_pred = result.predict(sm.add_constant(X_test))"
   ]
  },
  {
   "cell_type": "code",
   "execution_count": 11,
   "metadata": {},
   "outputs": [],
   "source": [
    "residuals = y_pred - y"
   ]
  },
  {
   "cell_type": "code",
   "execution_count": 12,
   "metadata": {},
   "outputs": [
    {
     "data": {
      "text/plain": [
       "(array([  1.,   1.,   2.,  11.,  29.,  96., 102.,  35.,  19.,   4.]),\n",
       " array([-1.1585534 , -0.96853079, -0.77850818, -0.58848556, -0.39846295,\n",
       "        -0.20844033, -0.01841772,  0.1716049 ,  0.36162751,  0.55165013,\n",
       "         0.74167274]),\n",
       " <a list of 10 Patch objects>)"
      ]
     },
     "execution_count": 12,
     "metadata": {},
     "output_type": "execute_result"
    },
    {
     "data": {
      "image/png": "[encoded data removed]",
      "text/plain": [
       "<Figure size 432x288 with 1 Axes>"
      ]
     },
     "metadata": {
      "needs_background": "light"
     },
     "output_type": "display_data"
    }
   ],
   "source": [
    "plt.hist(residuals)"
   ]
  },
  {
   "cell_type": "code",
   "execution_count": 22,
   "metadata": {},
   "outputs": [
    {
     "data": {
      "image/png": "[encoded data removed]",
      "text/plain": [
       "<Figure size 432x288 with 1 Axes>"
      ]
     },
     "metadata": {
      "needs_background": "light"
     },
     "output_type": "display_data"
    }
   ],
   "source": [
    "stats.probplot(residuals, dist=\"norm\", plot=plt)\n",
    "plt.show()"
   ]
  },
  {
   "cell_type": "code",
   "execution_count": null,
   "metadata": {},
   "outputs": [],
   "source": [
    "plt.scatter(y_pred, residuals)\n",
    "plt.hlines(0, -250,300)"
   ]
  },
  {
   "cell_type": "code",
   "execution_count": null,
   "metadata": {},
   "outputs": [],
   "source": [
    "res = result.predict(sm.add_constant(X)) - y"
   ]
  },
  {
   "cell_type": "code",
   "execution_count": null,
   "metadata": {},
   "outputs": [],
   "source": [
    "stats.probplot(res, dist=\"norm\", plot=plt)\n",
    "plt.show()"
   ]
  },
  {
   "cell_type": "code",
   "execution_count": null,
   "metadata": {},
   "outputs": [],
   "source": [
    "plt.scatter(result.predict(sm.add_constant(X)), res)\n",
    "plt.hlines(0, -250,300)"
   ]
  },
  {
   "cell_type": "code",
   "execution_count": null,
   "metadata": {},
   "outputs": [],
   "source": [
    "plt.hist(res)"
   ]
  },
  {
   "cell_type": "code",
   "execution_count": 14,
   "metadata": {},
   "outputs": [
    {
     "data": {
      "text/plain": [
       "<matplotlib.axes._subplots.AxesSubplot at 0x10f613ea408>"
      ]
     },
     "execution_count": 14,
     "metadata": {},
     "output_type": "execute_result"
    },
    {
     "data": {
      "image/png": "[encoded data removed]",
      "text/plain": [
       "<Figure size 432x288 with 1 Axes>"
      ]
     },
     "metadata": {
      "needs_background": "light"
     },
     "output_type": "display_data"
    }
   ],
   "source": [
    "sns.kdeplot(residuals)"
   ]
  },
  {
   "cell_type": "code",
   "execution_count": 20,
   "metadata": {},
   "outputs": [
    {
     "data": {
      "text/plain": [
       "KstestResult(statistic=0.336905553444519, pvalue=7.10354882783235e-31)"
      ]
     },
     "execution_count": 20,
     "metadata": {},
     "output_type": "execute_result"
    }
   ],
   "source": [
    "stats.kstest(residuals, 'cauchy')"
   ]
  },
  {
   "cell_type": "code",
   "execution_count": null,
   "metadata": {},
   "outputs": [],
   "source": [
    "stats.normaltest(res)"
   ]
  },
  {
   "cell_type": "code",
   "execution_count": null,
   "metadata": {},
   "outputs": [],
   "source": [
    "X_droped = X[['X3','X4', 'X8','X9','X10', 'X12']]\n",
    "X_droped"
   ]
  },
  {
   "cell_type": "code",
   "execution_count": null,
   "metadata": {},
   "outputs": [],
   "source": [
    "corr = X_droped.corr()\n",
    "corr"
   ]
  },
  {
   "cell_type": "code",
   "execution_count": null,
   "metadata": {},
   "outputs": [],
   "source": [
    "sns.heatmap(corr.abs())"
   ]
  },
  {
   "cell_type": "code",
   "execution_count": null,
   "metadata": {},
   "outputs": [],
   "source": []
  },
  {
   "cell_type": "code",
   "execution_count": null,
   "metadata": {},
   "outputs": [],
   "source": [
    "X_train, X_test, y_train, y_test = train_test_split(X_droped, y, test_size=0.2, random_state=66)"
   ]
  },
  {
   "cell_type": "code",
   "execution_count": null,
   "metadata": {},
   "outputs": [],
   "source": [
    "X_train = sm.add_constant(X_train)\n",
    "model = sm.OLS(y_train, X_train)\n",
    "result = model.fit()\n",
    "result.summary()"
   ]
  },
  {
   "cell_type": "code",
   "execution_count": null,
   "metadata": {},
   "outputs": [],
   "source": [
    "res2 = result.predict(sm.add_constant(X_test)) - y_test"
   ]
  },
  {
   "cell_type": "code",
   "execution_count": null,
   "metadata": {},
   "outputs": [],
   "source": [
    "stats.kstest(res2, 'cauchy')"
   ]
  },
  {
   "cell_type": "code",
   "execution_count": null,
   "metadata": {},
   "outputs": [],
   "source": [
    "import seaborn as sns"
   ]
  },
  {
   "cell_type": "code",
   "execution_count": null,
   "metadata": {},
   "outputs": [],
   "source": [
    "sns.kdeplot(res2)"
   ]
  },
  {
   "cell_type": "code",
   "execution_count": null,
   "metadata": {},
   "outputs": [],
   "source": [
    "stats.probplot(res2, dist=\"norm\", plot=plt)\n",
    "plt.show()"
   ]
  },
  {
   "cell_type": "code",
   "execution_count": 19,
   "metadata": {},
   "outputs": [
    {
     "data": {
      "text/plain": [
       "NormaltestResult(statistic=24.22171481354038, pvalue=5.499477849043295e-06)"
      ]
     },
     "execution_count": 19,
     "metadata": {},
     "output_type": "execute_result"
    }
   ],
   "source": [
    "stats.normaltest(residuals)\n"
   ]
  },
  {
   "cell_type": "code",
   "execution_count": null,
   "metadata": {},
   "outputs": [],
   "source": [
    "plt.scatter(result.predict(sm.add_constant(X_test)) , res2)\n",
    "plt.hlines(0, -250,300)"
   ]
  },
  {
   "cell_type": "code",
   "execution_count": null,
   "metadata": {},
   "outputs": [],
   "source": [
    "stats.shapiro(residuals)"
   ]
  },
  {
   "cell_type": "code",
   "execution_count": null,
   "metadata": {},
   "outputs": [],
   "source": [
    "res2 = result.predict(X_train) - y_train"
   ]
  },
  {
   "cell_type": "code",
   "execution_count": 18,
   "metadata": {},
   "outputs": [
    {
     "data": {
      "text/plain": [
       "KstestResult(statistic=0.3619393363905947, pvalue=1.0314262386634815e-35)"
      ]
     },
     "execution_count": 18,
     "metadata": {},
     "output_type": "execute_result"
    }
   ],
   "source": [
    "stats.kstest(residuals, 'logistic')"
   ]
  },
  {
   "cell_type": "code",
   "execution_count": 16,
   "metadata": {},
   "outputs": [],
   "source": [
    "import scipy"
   ]
  },
  {
   "cell_type": "code",
   "execution_count": 17,
   "metadata": {},
   "outputs": [
    {
     "name": "stdout",
     "output_type": "stream",
     "text": [
      "<scipy.stats._continuous_distns.weibull_min_gen object at 0x0000010F5A8BF348>\n",
      "(6.5398784974353354, -1.4446866981967181, 1.5440256620959603)\n",
      "\n"
     ]
    },
    {
     "ename": "NameError",
     "evalue": "name 'size' is not defined",
     "output_type": "error",
     "traceback": [
      "\u001b[1;31m---------------------------------------------------------------------------\u001b[0m",
      "\u001b[1;31mNameError\u001b[0m                                 Traceback (most recent call last)",
      "\u001b[1;32m<ipython-input-17-4d55f947e157>\u001b[0m in \u001b[0;36m<module>\u001b[1;34m\u001b[0m\n\u001b[0;32m     26\u001b[0m \u001b[1;33m\u001b[0m\u001b[0m\n\u001b[0;32m     27\u001b[0m     \u001b[1;31m# Chi-square Statistics\u001b[0m\u001b[1;33m\u001b[0m\u001b[1;33m\u001b[0m\u001b[1;33m\u001b[0m\u001b[0m\n\u001b[1;32m---> 28\u001b[1;33m     \u001b[0mexpected_frequency\u001b[0m \u001b[1;33m=\u001b[0m \u001b[0mnp\u001b[0m\u001b[1;33m.\u001b[0m\u001b[0marray\u001b[0m\u001b[1;33m(\u001b[0m\u001b[0mexpected_frequency\u001b[0m\u001b[1;33m)\u001b[0m \u001b[1;33m*\u001b[0m \u001b[0msize\u001b[0m\u001b[1;33m\u001b[0m\u001b[1;33m\u001b[0m\u001b[0m\n\u001b[0m\u001b[0;32m     29\u001b[0m     \u001b[0mcum_expected_frequency\u001b[0m \u001b[1;33m=\u001b[0m \u001b[0mnp\u001b[0m\u001b[1;33m.\u001b[0m\u001b[0mcumsum\u001b[0m\u001b[1;33m(\u001b[0m\u001b[0mexpected_frequency\u001b[0m\u001b[1;33m)\u001b[0m\u001b[1;33m\u001b[0m\u001b[1;33m\u001b[0m\u001b[0m\n\u001b[0;32m     30\u001b[0m     \u001b[0mss\u001b[0m \u001b[1;33m=\u001b[0m \u001b[0msum\u001b[0m \u001b[1;33m(\u001b[0m\u001b[1;33m(\u001b[0m\u001b[1;33m(\u001b[0m\u001b[0mcum_expected_frequency\u001b[0m \u001b[1;33m-\u001b[0m \u001b[0mcum_observed_frequency\u001b[0m\u001b[1;33m)\u001b[0m \u001b[1;33m**\u001b[0m \u001b[1;36m2\u001b[0m\u001b[1;33m)\u001b[0m \u001b[1;33m/\u001b[0m \u001b[0mcum_observed_frequency\u001b[0m\u001b[1;33m)\u001b[0m\u001b[1;33m\u001b[0m\u001b[1;33m\u001b[0m\u001b[0m\n",
      "\u001b[1;31mNameError\u001b[0m: name 'size' is not defined"
     ]
    }
   ],
   "source": [
    "dist_names = ['weibull_min','norm', 'weibull_max', 'beta',\n",
    "              'invgauss','uniform','gamma','expon'   \n",
    "              'lognorm','pearson3','triang']\n",
    "chi_square_statistics = []\n",
    "# 11 equi-distant bins of observed Data \n",
    "percentile_bins = np.linspace(0,100,11)\n",
    "percentile_cutoffs = np.percentile(residuals, percentile_bins)\n",
    "observed_frequency, bins = (np.histogram(residuals, bins=percentile_cutoffs))\n",
    "cum_observed_frequency = np.cumsum(observed_frequency)\n",
    "\n",
    "# Loop through candidate distributions\n",
    "for distribution in dist_names:\n",
    "    # Set up distribution and get fitted distribution parameters\n",
    "    dist = getattr(scipy.stats, distribution)\n",
    "    param = dist.fit(residuals)\n",
    "    print(\"{}\\n{}\\n\".format(dist, param))\n",
    "\n",
    "\n",
    "    # Get expected counts in percentile bins\n",
    "    # cdf of fitted sistrinution across bins\n",
    "    cdf_fitted = dist.cdf(percentile_cutoffs, *param)\n",
    "    expected_frequency = []\n",
    "    for bin in range(len(percentile_bins)-1):\n",
    "        expected_cdf_area = cdf_fitted[bin+1] - cdf_fitted[bin]\n",
    "        expected_frequency.append(expected_cdf_area)\n",
    "\n",
    "    # Chi-square Statistics\n",
    "    expected_frequency = np.array(expected_frequency) * size\n",
    "    cum_expected_frequency = np.cumsum(expected_frequency)\n",
    "    ss = sum (((cum_expected_frequency - cum_observed_frequency) ** 2) / cum_observed_frequency)\n",
    "    chi_square_statistics.append(ss)\n",
    "\n",
    "\n",
    "#Sort by minimum ch-square statistics\n",
    "results = pd.DataFrame()\n",
    "results['Distribution'] = dist_names\n",
    "results['chi_square'] = chi_square_statistics\n",
    "results.sort_values(['chi_square'], inplace=True)\n",
    "\n",
    "\n",
    "print ('\\nDistributions listed by Betterment of fit:')\n",
    "print ('............................................')\n",
    "print (results)"
   ]
  },
  {
   "cell_type": "code",
   "execution_count": null,
   "metadata": {},
   "outputs": [],
   "source": []
  }
 ],
 "metadata": {
  "kernelspec": {
   "display_name": "Python 3",
   "language": "python",
   "name": "python3"
  },
  "language_info": {
   "codemirror_mode": {
    "name": "ipython",
    "version": 3
   },
   "file_extension": ".py",
   "mimetype": "text/x-python",
   "name": "python",
   "nbconvert_exporter": "python",
   "pygments_lexer": "ipython3",
   "version": "3.7.4"
  },
  "toc": {
   "base_numbering": 1,
   "nav_menu": {},
   "number_sections": true,
   "sideBar": true,
   "skip_h1_title": false,
   "title_cell": "Table of Contents",
   "title_sidebar": "Contents",
   "toc_cell": false,
   "toc_position": {},
   "toc_section_display": true,
   "toc_window_display": false
  },
  "varInspector": {
   "cols": {
    "lenName": 16,
    "lenType": 16,
    "lenVar": 40
   },
   "kernels_config": {
    "python": {
     "delete_cmd_postfix": "",
     "delete_cmd_prefix": "del ",
     "library": "var_list.py",
     "varRefreshCmd": "print(var_dic_list())"
    },
    "r": {
     "delete_cmd_postfix": ") ",
     "delete_cmd_prefix": "rm(",
     "library": "var_list.r",
     "varRefreshCmd": "cat(var_dic_list()) "
    }
   },
   "types_to_exclude": [
    "module",
    "function",
    "builtin_function_or_method",
    "instance",
    "_Feature"
   ],
   "window_display": false
  }
 },
 "nbformat": 4,
 "nbformat_minor": 2
}
